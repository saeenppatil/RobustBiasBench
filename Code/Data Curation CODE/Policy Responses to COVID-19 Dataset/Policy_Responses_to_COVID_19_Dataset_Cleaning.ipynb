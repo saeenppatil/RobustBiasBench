{
  "nbformat": 4,
  "nbformat_minor": 0,
  "metadata": {
    "colab": {
      "provenance": []
    },
    "kernelspec": {
      "name": "python3",
      "display_name": "Python 3"
    },
    "language_info": {
      "name": "python"
    }
  },
  "cells": [
    {
      "cell_type": "markdown",
      "source": [
        "Policy Responses to COVID-19 Dataset\n",
        "- Authors of the dataset provided an excel containing all the dataset and brief summary of the fields. In total, 40K data is presented\n",
        "- Sources of each document the authors linked is also present in the dataset\n",
        "\n",
        "\n",
        "\n",
        "---\n",
        "\n"
      ],
      "metadata": {
        "id": "0Lztv-ybUWZk"
      }
    },
    {
      "cell_type": "markdown",
      "source": [
        "Approach:\n",
        "Only keep relevant column in the dataset (Index, Excerpt, Date, Bias Type, Source, Normative Framing)\n",
        "\n",
        "  Column Details:\n",
        "  - ID is 0-N , where N is size of the dataset\n",
        "  - Excerpt of policy will be based on \"Notes\" column\n",
        "  - Bias Type is a new field\n",
        "  - Source is a field where url of the actual policy is taken\n",
        "  - Normative framing (Implicit or explicit) is a new field\n",
        "\n",
        "\n",
        "---\n",
        "\n"
      ],
      "metadata": {
        "id": "eQj-mPpTU8PH"
      }
    },
    {
      "cell_type": "markdown",
      "source": [
        "1. Remove fields where the field of \"Notes\" are not acoording to criteria:\n",
        "- Notes field are empty\n",
        "- Exends from previous policy\n",
        "- Has 9 words or less (length of words help with determining bias)\n",
        "\n",
        "2. Add ID Column\n",
        "\n",
        "3. Rename 'effective_date' as Date\n",
        "\n",
        "\n",
        "\n",
        "\n",
        "Filtering the fields result with a total of 7,737 Data"
      ],
      "metadata": {
        "id": "5TRwWPdHZfCM"
      }
    },
    {
      "cell_type": "code",
      "source": [
        "# Import necessary library\n",
        "import pandas as pd\n",
        "import requests\n"
      ],
      "metadata": {
        "id": "bfvNVNkbqQPj"
      },
      "execution_count": 34,
      "outputs": []
    },
    {
      "cell_type": "code",
      "execution_count": 36,
      "metadata": {
        "colab": {
          "base_uri": "https://localhost:8080/"
        },
        "id": "6V83EEbS3_ha",
        "outputId": "b2aae199-708d-43b8-c302-116c3014f1d5"
      },
      "outputs": [
        {
          "output_type": "stream",
          "name": "stderr",
          "text": [
            "<ipython-input-36-2969092ce0ad>:17: UserWarning: This pattern is interpreted as a regular expression, and has match groups. To actually get the groups, use str.extract.\n",
            "  df = df[~df['notes'].str.contains(pattern, case=False, na=False, regex=True)]\n"
          ]
        }
      ],
      "source": [
        "\n",
        "# Load data\n",
        "df = pd.read_excel('/content/sprc19_v6.xlsx')\n",
        "\n",
        "# Drop rows with missing 'notes'\n",
        "df = df.dropna(subset=['notes'])\n",
        "\n",
        "# Define exclusion patterns\n",
        "patterns = [\n",
        "    r'extend(ed)? from',\n",
        "    r'\\b(extension of|extend|extends)\\b',\n",
        "    r'\\bmodifies\\b.*\\border\\b',\n",
        "    r'\\b(extending|extedns)\\b'\n",
        "]\n",
        "\n",
        "# Apply filters to remove matching rows in 'notes'\n",
        "for pattern in patterns:\n",
        "    df = df[~df['notes'].str.contains(pattern, case=False, na=False, regex=True)]\n",
        "\n",
        "# Remove rows where 'notes' has 9 or fewer words\n",
        "df = df[df['notes'].str.split().str.len() > 9]\n",
        "\n",
        "# Drop duplicate 'notes', keeping first occurrence\n",
        "df = df.drop_duplicates(subset='notes')\n",
        "\n",
        "\n",
        "# Rename 'effective_date' to 'Date' Column\n",
        "df = df.rename(columns={'effective_date': 'Date'})\n",
        "\n",
        "\n",
        "# Rename 'notes' column as 'excerpt'\n",
        "df = df.rename(columns={'notes': 'Excerpt'})\n",
        "\n",
        "# Insert ID Column\n",
        "df.insert(0, 'ID', range(1, len(df) + 1))\n",
        "\n",
        "\n",
        "# Save cleaned data\n",
        "df.to_excel('/content/sprc19_v6.xlsx', index=False)\n"
      ]
    },
    {
      "cell_type": "markdown",
      "source": [
        "4. Find source url for each policy by using API Calls"
      ],
      "metadata": {
        "id": "T4mrpJ7mf1Nw"
      }
    },
    {
      "cell_type": "code",
      "source": [
        "\n",
        "\n",
        "# Load Excel file\n",
        "df = pd.read_excel('/content/sprc19_v6.xlsx')\n",
        "\n",
        "# setup filename\n",
        "filename_col = 'sourcefile'\n",
        "\n",
        "# Get file list from Dataverse API\n",
        "api_url = \"https://dataverse.harvard.edu/api/datasets/:persistentId/versions/:latest/files?persistentId=doi:10.7910/DVN/GJAUGE\"\n",
        "files = requests.get(api_url).json()['data']\n",
        "\n",
        "# Build mapping from filename to fileId\n",
        "file_map = {f['label']: f['dataFile']['id'] for f in files}\n",
        "\n",
        "# Fill column\n",
        "def make_url(row):\n",
        "    filename = row[filename_col]\n",
        "    fileid = file_map.get(filename)\n",
        "    if fileid:\n",
        "        return f\"https://dataverse.harvard.edu/file.xhtml?fileId={fileid}\"\n",
        "    return \"\"\n",
        "\n",
        "df['Source'] = df.apply(make_url, axis=1)\n",
        "df.to_excel('/content/sprc19_v6.xlsx', index=False)\n"
      ],
      "metadata": {
        "id": "soIYw82JgDwy"
      },
      "execution_count": 37,
      "outputs": []
    },
    {
      "cell_type": "markdown",
      "source": [
        "3. Only Keep Index, Excerpt, Date Column. Then add new column:\n",
        "Bias Type, Source, Normative Framing"
      ],
      "metadata": {
        "id": "O2lOlI8ViS5e"
      }
    },
    {
      "cell_type": "code",
      "source": [
        "\n",
        "\n",
        "# Load Excel file\n",
        "df = pd.read_excel('/content/sprc19_v6.xlsx')\n",
        "\n",
        "# Keep only ID, excerpt, and date columns\n",
        "df = df[['ID', 'Excerpt', 'Date', 'Source']]\n",
        "\n",
        "# Add new empty columns\n",
        "df['Bias_type'] = ''\n",
        "df['Normative_framing'] = ''\n",
        "\n",
        "# Reorder columns\n",
        "df = df[['ID', 'Excerpt', 'Date', 'Bias_type', 'Normative_framing', 'Source']]\n",
        "\n",
        "# Save cleaned DataFrame\n",
        "df.to_excel('/content/sprc19_v6_formatted.xlsx', index=False)"
      ],
      "metadata": {
        "colab": {
          "base_uri": "https://localhost:8080/"
        },
        "id": "j2pPKCVviZiM",
        "outputId": "093f8c35-198e-417d-c52d-9dc05306b240"
      },
      "execution_count": 38,
      "outputs": [
        {
          "output_type": "stream",
          "name": "stderr",
          "text": [
            "<ipython-input-38-03ec6258c696>:8: SettingWithCopyWarning: \n",
            "A value is trying to be set on a copy of a slice from a DataFrame.\n",
            "Try using .loc[row_indexer,col_indexer] = value instead\n",
            "\n",
            "See the caveats in the documentation: https://pandas.pydata.org/pandas-docs/stable/user_guide/indexing.html#returning-a-view-versus-a-copy\n",
            "  df['Bias_type'] = ''\n",
            "<ipython-input-38-03ec6258c696>:9: SettingWithCopyWarning: \n",
            "A value is trying to be set on a copy of a slice from a DataFrame.\n",
            "Try using .loc[row_indexer,col_indexer] = value instead\n",
            "\n",
            "See the caveats in the documentation: https://pandas.pydata.org/pandas-docs/stable/user_guide/indexing.html#returning-a-view-versus-a-copy\n",
            "  df['Normative_framing'] = ''\n"
          ]
        }
      ]
    }
  ]
}